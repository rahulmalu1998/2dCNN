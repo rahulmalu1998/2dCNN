{
 "cells": [
  {
   "cell_type": "code",
   "execution_count": 1,
   "metadata": {},
   "outputs": [],
   "source": [
    "# !pip install tensorflow==2.2.0"
   ]
  },
  {
   "cell_type": "code",
   "execution_count": 1,
   "metadata": {
    "id": "ZIvF2EAT8JFZ"
   },
   "outputs": [],
   "source": [
    "#libraries import\n",
    "from scipy.io import wavfile\n",
    "\n",
    "import scipy.io as sio\n",
    "import librosa\n",
    "import pywt\n",
    "from librosa import display\n",
    "import numpy as np\n",
    "import matplotlib.pyplot as plt\n",
    "from scipy import fft, arange, signal\n",
    "from statsmodels import api as sm\n",
    "plt.style.use('seaborn-poster')\n",
    "%matplotlib inline"
   ]
  },
  {
   "cell_type": "code",
   "execution_count": 2,
   "metadata": {},
   "outputs": [],
   "source": [
    "# !pip install seaborn\n",
    "# !pip install opencv-python"
   ]
  },
  {
   "cell_type": "code",
   "execution_count": 3,
   "metadata": {
    "colab": {
     "base_uri": "https://localhost:8080/"
    },
    "id": "iCNzARBe8LVU",
    "outputId": "75616598-9cd1-4478-fd38-f661fc2e2acf"
   },
   "outputs": [
    {
     "name": "stdout",
     "output_type": "stream",
     "text": [
      "Using matplotlib backend: Qt5Agg\n",
      "Populating the interactive namespace from numpy and matplotlib\n"
     ]
    },
    {
     "name": "stderr",
     "output_type": "stream",
     "text": [
      "C:\\Users\\rahul\\anaconda3\\envs\\new\\lib\\site-packages\\IPython\\core\\magics\\pylab.py:160: UserWarning: pylab import has clobbered these variables: ['display', 'fft', 'arange']\n",
      "`%matplotlib` prevents importing * from pylab and numpy\n",
      "  \"\\n`%matplotlib` prevents importing * from pylab and numpy\"\n"
     ]
    }
   ],
   "source": [
    "import PIL\n",
    "%pylab\n",
    "import glob\n",
    "import scipy.ndimage\n",
    "from scipy.ndimage.interpolation import zoom\n",
    "#from scipy.misc import imresize\n",
    "import pandas as pd\n",
    "# import seaborn as sns\n",
    "from PIL import Image\n",
    "import cv2\n",
    "# sns.set_style('white')\n",
    "%matplotlib inline"
   ]
  },
  {
   "cell_type": "code",
   "execution_count": 4,
   "metadata": {},
   "outputs": [
    {
     "name": "stdout",
     "output_type": "stream",
     "text": [
      "Requirement already satisfied: keras in c:\\users\\rahul\\anaconda3\\envs\\new\\lib\\site-packages (2.4.3)\n",
      "Requirement already satisfied: pyyaml in c:\\users\\rahul\\anaconda3\\envs\\new\\lib\\site-packages (from keras) (5.4.1)\n",
      "Requirement already satisfied: numpy>=1.9.1 in c:\\users\\rahul\\anaconda3\\envs\\new\\lib\\site-packages (from keras) (1.19.0)\n",
      "Requirement already satisfied: h5py in c:\\users\\rahul\\anaconda3\\envs\\new\\lib\\site-packages (from keras) (2.10.0)\n",
      "Requirement already satisfied: scipy>=0.14 in c:\\users\\rahul\\anaconda3\\envs\\new\\lib\\site-packages (from keras) (1.4.1)\n",
      "Requirement already satisfied: six in c:\\users\\rahul\\anaconda3\\envs\\new\\lib\\site-packages (from h5py->keras) (1.16.0)\n"
     ]
    }
   ],
   "source": [
    "!pip install keras"
   ]
  },
  {
   "cell_type": "code",
   "execution_count": 5,
   "metadata": {
    "id": "4Of_IcKnVA0E"
   },
   "outputs": [],
   "source": [
    "import matplotlib.pyplot as plt\n",
    "# import seaborn as sns\n",
    "import tensorflow as tf\n",
    "from tensorflow import keras\n",
    "from keras.models import Sequential\n",
    "from keras.layers import Dense, Conv2D , MaxPooling2D , Flatten , Dropout,Activation \n",
    "from keras.preprocessing.image import ImageDataGenerator\n",
    "from keras.optimizers import Adam\n",
    "\n",
    "from sklearn.metrics import classification_report,confusion_matrix\n",
    "\n",
    "\n",
    "import cv2\n",
    "import os\n",
    "\n",
    "import numpy as np"
   ]
  },
  {
   "cell_type": "code",
   "execution_count": 6,
   "metadata": {
    "id": "jDcKKjF6WrkE"
   },
   "outputs": [],
   "source": [
    "labels = ['N','AS','MVP','MR','MS']\n",
    "image_list = []\n",
    "\n",
    "def get_data(data_dir):\n",
    "    data = [] \n",
    "    i=0\n",
    "    j=0\n",
    "    for label in labels: \n",
    "        path = os.path.join(data_dir, label)\n",
    "        class_num = labels.index(label)\n",
    "        print(i)\n",
    "        i=i+1\n",
    "        for img in os.listdir(path):          \n",
    "            try:\n",
    "                img_arr = cv2.imread(os.path.join(path, img))[...,::-1] #convert BGR to RGB format\n",
    "                resized_arr = cv2.resize(img_arr, (224,224)) # Reshaping images to preferred size\n",
    "                data.append([resized_arr,'image_'+str(j), label])\n",
    "                j=j+1\n",
    "                # image_list.append(resized_arr)\n",
    "\n",
    "            except Exception as e:\n",
    "                print(e)\n",
    "    return np.array(data)"
   ]
  },
  {
   "cell_type": "code",
   "execution_count": 7,
   "metadata": {
    "colab": {
     "base_uri": "https://localhost:8080/",
     "height": 307
    },
    "id": "gfdSpoGDYIQ6",
    "outputId": "83c02fa9-08d1-4e66-af48-f9e9bd430b4d"
   },
   "outputs": [
    {
     "name": "stdout",
     "output_type": "stream",
     "text": [
      "0\n",
      "1\n",
      "2\n",
      "3\n",
      "4\n"
     ]
    },
    {
     "name": "stderr",
     "output_type": "stream",
     "text": [
      "C:\\Users\\rahul\\anaconda3\\envs\\new\\lib\\site-packages\\ipykernel_launcher.py:23: VisibleDeprecationWarning: Creating an ndarray from ragged nested sequences (which is a list-or-tuple of lists-or-tuples-or ndarrays with different lengths or shapes) is deprecated. If you meant to do this, you must specify 'dtype=object' when creating the ndarray\n"
     ]
    },
    {
     "data": {
      "text/html": [
       "<div>\n",
       "<style scoped>\n",
       "    .dataframe tbody tr th:only-of-type {\n",
       "        vertical-align: middle;\n",
       "    }\n",
       "\n",
       "    .dataframe tbody tr th {\n",
       "        vertical-align: top;\n",
       "    }\n",
       "\n",
       "    .dataframe thead th {\n",
       "        text-align: right;\n",
       "    }\n",
       "</style>\n",
       "<table border=\"1\" class=\"dataframe\">\n",
       "  <thead>\n",
       "    <tr style=\"text-align: right;\">\n",
       "      <th></th>\n",
       "      <th>0</th>\n",
       "      <th>1</th>\n",
       "      <th>2</th>\n",
       "    </tr>\n",
       "  </thead>\n",
       "  <tbody>\n",
       "    <tr>\n",
       "      <th>0</th>\n",
       "      <td>[[[0, 0, 135], [0, 0, 135], [0, 0, 135], [0, 0...</td>\n",
       "      <td>image_0</td>\n",
       "      <td>N</td>\n",
       "    </tr>\n",
       "    <tr>\n",
       "      <th>1</th>\n",
       "      <td>[[[0, 0, 135], [0, 0, 135], [0, 0, 135], [0, 0...</td>\n",
       "      <td>image_1</td>\n",
       "      <td>N</td>\n",
       "    </tr>\n",
       "    <tr>\n",
       "      <th>2</th>\n",
       "      <td>[[[0, 0, 135], [0, 0, 135], [0, 0, 135], [0, 0...</td>\n",
       "      <td>image_2</td>\n",
       "      <td>N</td>\n",
       "    </tr>\n",
       "    <tr>\n",
       "      <th>3</th>\n",
       "      <td>[[[0, 0, 135], [0, 0, 135], [0, 0, 135], [0, 0...</td>\n",
       "      <td>image_3</td>\n",
       "      <td>N</td>\n",
       "    </tr>\n",
       "    <tr>\n",
       "      <th>4</th>\n",
       "      <td>[[[0, 0, 135], [0, 0, 135], [0, 0, 135], [0, 0...</td>\n",
       "      <td>image_4</td>\n",
       "      <td>N</td>\n",
       "    </tr>\n",
       "  </tbody>\n",
       "</table>\n",
       "</div>"
      ],
      "text/plain": [
       "                                                   0        1  2\n",
       "0  [[[0, 0, 135], [0, 0, 135], [0, 0, 135], [0, 0...  image_0  N\n",
       "1  [[[0, 0, 135], [0, 0, 135], [0, 0, 135], [0, 0...  image_1  N\n",
       "2  [[[0, 0, 135], [0, 0, 135], [0, 0, 135], [0, 0...  image_2  N\n",
       "3  [[[0, 0, 135], [0, 0, 135], [0, 0, 135], [0, 0...  image_3  N\n",
       "4  [[[0, 0, 135], [0, 0, 135], [0, 0, 135], [0, 0...  image_4  N"
      ]
     },
     "execution_count": 7,
     "metadata": {},
     "output_type": "execute_result"
    }
   ],
   "source": [
    "from sklearn.model_selection import train_test_split\n",
    "X = get_data('C:/Users/rahul/Downloads/CycleScalograms/')\n",
    "f=pd.DataFrame(X)\n",
    "f.head()"
   ]
  },
  {
   "cell_type": "code",
   "execution_count": 8,
   "metadata": {
    "id": "OTiERwhLtKth"
   },
   "outputs": [],
   "source": [
    "# f.shape\n",
    "f.columns = ['scalogram','image_no', 'label']"
   ]
  },
  {
   "cell_type": "code",
   "execution_count": 9,
   "metadata": {
    "colab": {
     "base_uri": "https://localhost:8080/",
     "height": 296
    },
    "id": "s7mwqQKluBOw",
    "outputId": "a0574ab6-5bc4-4ea4-9597-7b16e8c1ee46"
   },
   "outputs": [
    {
     "data": {
      "text/plain": [
       "<AxesSubplot:>"
      ]
     },
     "execution_count": 9,
     "metadata": {},
     "output_type": "execute_result"
    },
    {
     "data": {
      "image/png": "[encoded data removed]",
      "text/plain": [
       "<Figure size 432x288 with 1 Axes>"
      ]
     },
     "metadata": {
      "needs_background": "light"
     },
     "output_type": "display_data"
    }
   ],
   "source": [
    "f.label.hist()"
   ]
  },
  {
   "cell_type": "code",
   "execution_count": 10,
   "metadata": {
    "colab": {
     "base_uri": "https://localhost:8080/",
     "height": 417
    },
    "id": "Ooa46pGTuBJg",
    "outputId": "db5cc867-7a48-49ed-f3e7-647549817391"
   },
   "outputs": [
    {
     "data": {
      "text/html": [
       "<div>\n",
       "<style scoped>\n",
       "    .dataframe tbody tr th:only-of-type {\n",
       "        vertical-align: middle;\n",
       "    }\n",
       "\n",
       "    .dataframe tbody tr th {\n",
       "        vertical-align: top;\n",
       "    }\n",
       "\n",
       "    .dataframe thead th {\n",
       "        text-align: right;\n",
       "    }\n",
       "</style>\n",
       "<table border=\"1\" class=\"dataframe\">\n",
       "  <thead>\n",
       "    <tr style=\"text-align: right;\">\n",
       "      <th></th>\n",
       "      <th>image_no</th>\n",
       "      <th>label_AS</th>\n",
       "      <th>label_MR</th>\n",
       "      <th>label_MS</th>\n",
       "      <th>label_MVP</th>\n",
       "      <th>label_N</th>\n",
       "    </tr>\n",
       "  </thead>\n",
       "  <tbody>\n",
       "    <tr>\n",
       "      <th>0</th>\n",
       "      <td>image_0</td>\n",
       "      <td>0</td>\n",
       "      <td>0</td>\n",
       "      <td>0</td>\n",
       "      <td>0</td>\n",
       "      <td>1</td>\n",
       "    </tr>\n",
       "    <tr>\n",
       "      <th>1</th>\n",
       "      <td>image_1</td>\n",
       "      <td>0</td>\n",
       "      <td>0</td>\n",
       "      <td>0</td>\n",
       "      <td>0</td>\n",
       "      <td>1</td>\n",
       "    </tr>\n",
       "    <tr>\n",
       "      <th>2</th>\n",
       "      <td>image_2</td>\n",
       "      <td>0</td>\n",
       "      <td>0</td>\n",
       "      <td>0</td>\n",
       "      <td>0</td>\n",
       "      <td>1</td>\n",
       "    </tr>\n",
       "    <tr>\n",
       "      <th>3</th>\n",
       "      <td>image_3</td>\n",
       "      <td>0</td>\n",
       "      <td>0</td>\n",
       "      <td>0</td>\n",
       "      <td>0</td>\n",
       "      <td>1</td>\n",
       "    </tr>\n",
       "    <tr>\n",
       "      <th>4</th>\n",
       "      <td>image_4</td>\n",
       "      <td>0</td>\n",
       "      <td>0</td>\n",
       "      <td>0</td>\n",
       "      <td>0</td>\n",
       "      <td>1</td>\n",
       "    </tr>\n",
       "    <tr>\n",
       "      <th>...</th>\n",
       "      <td>...</td>\n",
       "      <td>...</td>\n",
       "      <td>...</td>\n",
       "      <td>...</td>\n",
       "      <td>...</td>\n",
       "      <td>...</td>\n",
       "    </tr>\n",
       "    <tr>\n",
       "      <th>2430</th>\n",
       "      <td>image_2430</td>\n",
       "      <td>0</td>\n",
       "      <td>0</td>\n",
       "      <td>1</td>\n",
       "      <td>0</td>\n",
       "      <td>0</td>\n",
       "    </tr>\n",
       "    <tr>\n",
       "      <th>2431</th>\n",
       "      <td>image_2431</td>\n",
       "      <td>0</td>\n",
       "      <td>0</td>\n",
       "      <td>1</td>\n",
       "      <td>0</td>\n",
       "      <td>0</td>\n",
       "    </tr>\n",
       "    <tr>\n",
       "      <th>2432</th>\n",
       "      <td>image_2432</td>\n",
       "      <td>0</td>\n",
       "      <td>0</td>\n",
       "      <td>1</td>\n",
       "      <td>0</td>\n",
       "      <td>0</td>\n",
       "    </tr>\n",
       "    <tr>\n",
       "      <th>2433</th>\n",
       "      <td>image_2433</td>\n",
       "      <td>0</td>\n",
       "      <td>0</td>\n",
       "      <td>1</td>\n",
       "      <td>0</td>\n",
       "      <td>0</td>\n",
       "    </tr>\n",
       "    <tr>\n",
       "      <th>2434</th>\n",
       "      <td>image_2434</td>\n",
       "      <td>0</td>\n",
       "      <td>0</td>\n",
       "      <td>1</td>\n",
       "      <td>0</td>\n",
       "      <td>0</td>\n",
       "    </tr>\n",
       "  </tbody>\n",
       "</table>\n",
       "<p>2435 rows × 6 columns</p>\n",
       "</div>"
      ],
      "text/plain": [
       "        image_no  label_AS  label_MR  label_MS  label_MVP  label_N\n",
       "0        image_0         0         0         0          0        1\n",
       "1        image_1         0         0         0          0        1\n",
       "2        image_2         0         0         0          0        1\n",
       "3        image_3         0         0         0          0        1\n",
       "4        image_4         0         0         0          0        1\n",
       "...          ...       ...       ...       ...        ...      ...\n",
       "2430  image_2430         0         0         1          0        0\n",
       "2431  image_2431         0         0         1          0        0\n",
       "2432  image_2432         0         0         1          0        0\n",
       "2433  image_2433         0         0         1          0        0\n",
       "2434  image_2434         0         0         1          0        0\n",
       "\n",
       "[2435 rows x 6 columns]"
      ]
     },
     "execution_count": 10,
     "metadata": {},
     "output_type": "execute_result"
    }
   ],
   "source": [
    "f1=f.iloc[:,1:]\n",
    "f2=f.iloc[:,0]\n",
    "dummies = pd.get_dummies(f1, columns = ['label'], )\n",
    "one_hot_labels =array(dummies.drop('image_no', axis = 1))\n",
    "dummies"
   ]
  },
  {
   "cell_type": "code",
   "execution_count": 11,
   "metadata": {
    "id": "0LMzvoqSwios"
   },
   "outputs": [
    {
     "data": {
      "text/plain": [
       "array([[0, 0, 0, 0, 1],\n",
       "       [0, 0, 0, 0, 1],\n",
       "       [0, 0, 0, 0, 1],\n",
       "       ...,\n",
       "       [0, 0, 1, 0, 0],\n",
       "       [0, 0, 1, 0, 0],\n",
       "       [0, 0, 1, 0, 0]], dtype=uint8)"
      ]
     },
     "execution_count": 11,
     "metadata": {},
     "output_type": "execute_result"
    }
   ],
   "source": [
    "one_hot_labels"
   ]
  },
  {
   "cell_type": "code",
   "execution_count": 12,
   "metadata": {},
   "outputs": [
    {
     "data": {
      "text/plain": [
       "0    [[[0, 0, 135], [0, 0, 135], [0, 0, 135], [0, 0...\n",
       "1    [[[0, 0, 135], [0, 0, 135], [0, 0, 135], [0, 0...\n",
       "2    [[[0, 0, 135], [0, 0, 135], [0, 0, 135], [0, 0...\n",
       "3    [[[0, 0, 135], [0, 0, 135], [0, 0, 135], [0, 0...\n",
       "4    [[[0, 0, 135], [0, 0, 135], [0, 0, 135], [0, 0...\n",
       "Name: scalogram, dtype: object"
      ]
     },
     "execution_count": 12,
     "metadata": {},
     "output_type": "execute_result"
    }
   ],
   "source": [
    "f2.head()"
   ]
  },
  {
   "cell_type": "code",
   "execution_count": 13,
   "metadata": {},
   "outputs": [],
   "source": [
    "# f2=pd.DataFrame(f2)"
   ]
  },
  {
   "cell_type": "code",
   "execution_count": 14,
   "metadata": {},
   "outputs": [],
   "source": [
    "path_test = \"C:/Users/rahul/Downloads/CycleScalograms\""
   ]
  },
  {
   "cell_type": "code",
   "execution_count": 15,
   "metadata": {},
   "outputs": [
    {
     "name": "stdout",
     "output_type": "stream",
     "text": [
      "(2435,)\n"
     ]
    }
   ],
   "source": [
    "CATEGORIES = [\"N\",\"AS\",\"MR\",\"MS\",\"MVP\"]\n",
    "img_array=f2\n",
    "print(img_array.shape)\n",
    "IMG_SIZE =100\n",
    "image_list=[]\n",
    "for image in f2:\n",
    "    img = cv2.resize(image, (IMG_SIZE, IMG_SIZE))\n",
    "    image_list.append(img)\n"
   ]
  },
  {
   "cell_type": "code",
   "execution_count": 16,
   "metadata": {},
   "outputs": [
    {
     "name": "stdout",
     "output_type": "stream",
     "text": [
      "\n"
     ]
    },
    {
     "data": {
      "image/png": "[encoded data removed]",
      "text/plain": [
       "<Figure size 432x288 with 1 Axes>"
      ]
     },
     "metadata": {
      "needs_background": "light"
     },
     "output_type": "display_data"
    }
   ],
   "source": [
    "plt.imshow(image_list[5])\n",
    "print()"
   ]
  },
  {
   "cell_type": "code",
   "execution_count": 17,
   "metadata": {},
   "outputs": [],
   "source": [
    "training = []\n",
    "def createTrainingData():\n",
    "  for category in CATEGORIES:\n",
    "    path = os.path.join(path_test, category)\n",
    "    class_num = CATEGORIES.index(category)\n",
    "    for img in os.listdir(path):\n",
    "      img_array = cv2.imread(os.path.join(path,img))\n",
    "      new_array = cv2.resize(img_array, (IMG_SIZE, IMG_SIZE))\n",
    "      training.append([new_array, class_num])\n",
    "createTrainingData()"
   ]
  },
  {
   "cell_type": "code",
   "execution_count": 18,
   "metadata": {},
   "outputs": [],
   "source": [
    "random.shuffle(training)"
   ]
  },
  {
   "cell_type": "code",
   "execution_count": 19,
   "metadata": {},
   "outputs": [
    {
     "data": {
      "text/plain": [
       "[array([[[135,   0,   0],\n",
       "         [135,   0,   0],\n",
       "         [135,   0,   0],\n",
       "         ...,\n",
       "         [135,   0,   0],\n",
       "         [135,   0,   0],\n",
       "         [135,   0,   0]],\n",
       " \n",
       "        [[135,   0,   0],\n",
       "         [135,   0,   0],\n",
       "         [135,   0,   0],\n",
       "         ...,\n",
       "         [135,   0,   0],\n",
       "         [135,   0,   0],\n",
       "         [135,   0,   0]],\n",
       " \n",
       "        [[135,   0,   0],\n",
       "         [135,   0,   0],\n",
       "         [135,   0,   0],\n",
       "         ...,\n",
       "         [135,   0,   0],\n",
       "         [135,   0,   0],\n",
       "         [135,   0,   0]],\n",
       " \n",
       "        ...,\n",
       " \n",
       "        [[151,   0,   0],\n",
       "         [151,   0,   0],\n",
       "         [151,   0,   0],\n",
       "         ...,\n",
       "         [135,   0,   0],\n",
       "         [135,   0,   0],\n",
       "         [135,   0,   0]],\n",
       " \n",
       "        [[156,   0,   0],\n",
       "         [156,   0,   0],\n",
       "         [160,   0,   0],\n",
       "         ...,\n",
       "         [135,   0,   0],\n",
       "         [135,   0,   0],\n",
       "         [135,   0,   0]],\n",
       " \n",
       "        [[159,   0,   0],\n",
       "         [159,   0,   0],\n",
       "         [159,   0,   0],\n",
       "         ...,\n",
       "         [135,   0,   0],\n",
       "         [135,   0,   0],\n",
       "         [135,   0,   0]]], dtype=uint8),\n",
       " 0]"
      ]
     },
     "execution_count": 19,
     "metadata": {},
     "output_type": "execute_result"
    }
   ],
   "source": [
    "training[1]"
   ]
  },
  {
   "cell_type": "code",
   "execution_count": 20,
   "metadata": {},
   "outputs": [],
   "source": [
    "X =[]\n",
    "y =[]\n",
    "for features, label in training:\n",
    "  X.append(features)\n",
    "  y.append(label)\n",
    "X = np.array(X).reshape(-1, IMG_SIZE, IMG_SIZE, 3)"
   ]
  },
  {
   "cell_type": "code",
   "execution_count": 21,
   "metadata": {},
   "outputs": [],
   "source": [
    "# !pip install tensorflow==2.1.0 --user"
   ]
  },
  {
   "cell_type": "code",
   "execution_count": 22,
   "metadata": {},
   "outputs": [
    {
     "name": "stdout",
     "output_type": "stream",
     "text": [
      "[0. 0. 1. 0. 0.]\n",
      "(2435, 5)\n"
     ]
    }
   ],
   "source": [
    "X = X.astype('float32')\n",
    "X /= 255\n",
    "from keras.utils import np_utils\n",
    "Y = np_utils.to_categorical(y,5)\n",
    "print(Y[100])\n",
    "print(shape(Y))\n"
   ]
  },
  {
   "cell_type": "code",
   "execution_count": 23,
   "metadata": {},
   "outputs": [],
   "source": [
    "X_train, X_test, y_train, y_test = train_test_split(X, Y, test_size = 0.15, random_state = 1)\n",
    "X_train, X_val, y_train, y_val = train_test_split(X_train, y_train, test_size=0.25, random_state=1) # 0.25 x 0.8 = 0.2"
   ]
  },
  {
   "cell_type": "code",
   "execution_count": 24,
   "metadata": {},
   "outputs": [],
   "source": [
    "# X_train = X_train.reshape((X_train.shape[0], 28, 28, 1))\n",
    "# X_test= X_test.reshape((X_test.shape[0], 28, 28, 1))"
   ]
  },
  {
   "cell_type": "code",
   "execution_count": 25,
   "metadata": {
    "id": "BXYQRNIFnaZ9"
   },
   "outputs": [],
   "source": [
    "# X_train, X_test, y_train, y_test = train_test_split(f.iloc[:,0], f.iloc[:,1], test_size=0.33)"
   ]
  },
  {
   "cell_type": "code",
   "execution_count": 26,
   "metadata": {
    "colab": {
     "base_uri": "https://localhost:8080/"
    },
    "id": "9Eg4CQJaao6V",
    "outputId": "e196c904-3566-4066-9c8f-80c2f1b12a3b"
   },
   "outputs": [
    {
     "name": "stdout",
     "output_type": "stream",
     "text": [
      "X_train shape (1551, 100, 100, 3)\n",
      "y_train shape (1551, 5)\n",
      "X_test shape (366, 100, 100, 3)\n",
      "y_test shape (366, 5)\n",
      "X_test shape (518, 100, 100, 3)\n",
      "y_test shape (518, 5)\n"
     ]
    }
   ],
   "source": [
    "print(\"X_train shape\", X_train.shape)\n",
    "print(\"y_train shape\", y_train.shape)\n",
    "print(\"X_test shape\", X_test.shape)\n",
    "print(\"y_test shape\", y_test.shape)\n",
    "print(\"X_test shape\", X_val.shape)\n",
    "print(\"y_test shape\", y_val.shape)"
   ]
  },
  {
   "cell_type": "code",
   "execution_count": 27,
   "metadata": {
    "colab": {
     "base_uri": "https://localhost:8080/"
    },
    "id": "L7TEhN-ElZ_r",
    "outputId": "953dd50a-249d-45ba-8104-f58cc91d2dba"
   },
   "outputs": [
    {
     "data": {
      "text/plain": [
       "array([[[[0.5294118 , 0.        , 0.        ],\n",
       "         [0.5294118 , 0.        , 0.        ],\n",
       "         [0.5294118 , 0.        , 0.        ],\n",
       "         ...,\n",
       "         [0.5294118 , 0.        , 0.        ],\n",
       "         [0.5294118 , 0.        , 0.        ],\n",
       "         [0.5294118 , 0.        , 0.        ]],\n",
       "\n",
       "        [[0.5294118 , 0.        , 0.        ],\n",
       "         [0.5294118 , 0.        , 0.        ],\n",
       "         [0.5294118 , 0.        , 0.        ],\n",
       "         ...,\n",
       "         [0.5294118 , 0.        , 0.        ],\n",
       "         [0.5294118 , 0.        , 0.        ],\n",
       "         [0.5294118 , 0.        , 0.        ]],\n",
       "\n",
       "        [[0.5294118 , 0.        , 0.        ],\n",
       "         [0.5294118 , 0.        , 0.        ],\n",
       "         [0.5294118 , 0.        , 0.        ],\n",
       "         ...,\n",
       "         [0.5294118 , 0.        , 0.        ],\n",
       "         [0.5294118 , 0.        , 0.        ],\n",
       "         [0.5294118 , 0.        , 0.        ]],\n",
       "\n",
       "        ...,\n",
       "\n",
       "        [[0.627451  , 0.        , 0.        ],\n",
       "         [0.627451  , 0.        , 0.        ],\n",
       "         [0.627451  , 0.        , 0.        ],\n",
       "         ...,\n",
       "         [0.56078434, 0.        , 0.        ],\n",
       "         [0.56078434, 0.        , 0.        ],\n",
       "         [0.56078434, 0.        , 0.        ]],\n",
       "\n",
       "        [[0.6039216 , 0.        , 0.        ],\n",
       "         [0.6039216 , 0.        , 0.        ],\n",
       "         [0.6039216 , 0.        , 0.        ],\n",
       "         ...,\n",
       "         [0.5647059 , 0.        , 0.        ],\n",
       "         [0.56078434, 0.        , 0.        ],\n",
       "         [0.56078434, 0.        , 0.        ]],\n",
       "\n",
       "        [[0.58431375, 0.        , 0.        ],\n",
       "         [0.58431375, 0.        , 0.        ],\n",
       "         [0.58431375, 0.        , 0.        ],\n",
       "         ...,\n",
       "         [0.59607846, 0.        , 0.        ],\n",
       "         [0.5803922 , 0.        , 0.        ],\n",
       "         [0.56078434, 0.        , 0.        ]]],\n",
       "\n",
       "\n",
       "       [[[0.5294118 , 0.        , 0.        ],\n",
       "         [0.5294118 , 0.        , 0.        ],\n",
       "         [0.54901963, 0.        , 0.        ],\n",
       "         ...,\n",
       "         [0.5294118 , 0.        , 0.        ],\n",
       "         [0.5294118 , 0.        , 0.        ],\n",
       "         [0.5294118 , 0.        , 0.        ]],\n",
       "\n",
       "        [[0.5294118 , 0.        , 0.        ],\n",
       "         [0.5294118 , 0.        , 0.        ],\n",
       "         [0.54901963, 0.        , 0.        ],\n",
       "         ...,\n",
       "         [0.5294118 , 0.        , 0.        ],\n",
       "         [0.5294118 , 0.        , 0.        ],\n",
       "         [0.5294118 , 0.        , 0.        ]],\n",
       "\n",
       "        [[0.5294118 , 0.        , 0.        ],\n",
       "         [0.5294118 , 0.        , 0.        ],\n",
       "         [0.54901963, 0.        , 0.        ],\n",
       "         ...,\n",
       "         [0.5294118 , 0.        , 0.        ],\n",
       "         [0.5294118 , 0.        , 0.        ],\n",
       "         [0.5294118 , 0.        , 0.        ]],\n",
       "\n",
       "        ...,\n",
       "\n",
       "        [[0.9411765 , 0.        , 0.        ],\n",
       "         [0.9372549 , 0.        , 0.        ],\n",
       "         [0.9372549 , 0.        , 0.        ],\n",
       "         ...,\n",
       "         [0.5294118 , 0.        , 0.        ],\n",
       "         [0.5294118 , 0.        , 0.        ],\n",
       "         [0.5294118 , 0.        , 0.        ]],\n",
       "\n",
       "        [[0.8862745 , 0.        , 0.        ],\n",
       "         [0.8862745 , 0.        , 0.        ],\n",
       "         [0.8862745 , 0.        , 0.        ],\n",
       "         ...,\n",
       "         [0.5294118 , 0.        , 0.        ],\n",
       "         [0.5294118 , 0.        , 0.        ],\n",
       "         [0.5294118 , 0.        , 0.        ]],\n",
       "\n",
       "        [[0.8392157 , 0.        , 0.        ],\n",
       "         [0.8392157 , 0.        , 0.        ],\n",
       "         [0.8392157 , 0.        , 0.        ],\n",
       "         ...,\n",
       "         [0.5294118 , 0.        , 0.        ],\n",
       "         [0.5294118 , 0.        , 0.        ],\n",
       "         [0.5294118 , 0.        , 0.        ]]],\n",
       "\n",
       "\n",
       "       [[[0.5294118 , 0.        , 0.        ],\n",
       "         [0.5294118 , 0.        , 0.        ],\n",
       "         [0.5294118 , 0.        , 0.        ],\n",
       "         ...,\n",
       "         [0.5294118 , 0.        , 0.        ],\n",
       "         [0.5294118 , 0.        , 0.        ],\n",
       "         [0.5411765 , 0.        , 0.        ]],\n",
       "\n",
       "        [[0.5294118 , 0.        , 0.        ],\n",
       "         [0.5294118 , 0.        , 0.        ],\n",
       "         [0.5294118 , 0.        , 0.        ],\n",
       "         ...,\n",
       "         [0.5294118 , 0.        , 0.        ],\n",
       "         [0.5294118 , 0.        , 0.        ],\n",
       "         [0.5411765 , 0.        , 0.        ]],\n",
       "\n",
       "        [[0.5294118 , 0.        , 0.        ],\n",
       "         [0.5294118 , 0.        , 0.        ],\n",
       "         [0.5294118 , 0.        , 0.        ],\n",
       "         ...,\n",
       "         [0.5294118 , 0.        , 0.        ],\n",
       "         [0.5294118 , 0.        , 0.        ],\n",
       "         [0.54509807, 0.        , 0.        ]],\n",
       "\n",
       "        ...,\n",
       "\n",
       "        [[0.80784315, 0.        , 0.        ],\n",
       "         [0.8117647 , 0.        , 0.        ],\n",
       "         [0.7882353 , 0.        , 0.        ],\n",
       "         ...,\n",
       "         [0.7490196 , 0.        , 0.        ],\n",
       "         [0.7490196 , 0.        , 0.        ],\n",
       "         [0.7490196 , 0.        , 0.        ]],\n",
       "\n",
       "        [[0.8117647 , 0.        , 0.        ],\n",
       "         [0.8117647 , 0.        , 0.        ],\n",
       "         [0.8117647 , 0.        , 0.        ],\n",
       "         ...,\n",
       "         [0.6666667 , 0.        , 0.        ],\n",
       "         [0.6666667 , 0.        , 0.        ],\n",
       "         [0.6666667 , 0.        , 0.        ]],\n",
       "\n",
       "        [[0.8117647 , 0.        , 0.        ],\n",
       "         [0.8117647 , 0.        , 0.        ],\n",
       "         [0.8039216 , 0.        , 0.        ],\n",
       "         ...,\n",
       "         [0.61960787, 0.        , 0.        ],\n",
       "         [0.60784316, 0.        , 0.        ],\n",
       "         [0.5882353 , 0.        , 0.        ]]],\n",
       "\n",
       "\n",
       "       ...,\n",
       "\n",
       "\n",
       "       [[[0.5294118 , 0.        , 0.        ],\n",
       "         [0.5294118 , 0.        , 0.        ],\n",
       "         [0.5294118 , 0.        , 0.        ],\n",
       "         ...,\n",
       "         [0.5294118 , 0.        , 0.        ],\n",
       "         [0.5294118 , 0.        , 0.        ],\n",
       "         [0.5294118 , 0.        , 0.        ]],\n",
       "\n",
       "        [[0.5294118 , 0.        , 0.        ],\n",
       "         [0.5294118 , 0.        , 0.        ],\n",
       "         [0.5294118 , 0.        , 0.        ],\n",
       "         ...,\n",
       "         [0.5294118 , 0.        , 0.        ],\n",
       "         [0.5294118 , 0.        , 0.        ],\n",
       "         [0.5294118 , 0.        , 0.        ]],\n",
       "\n",
       "        [[0.5294118 , 0.        , 0.        ],\n",
       "         [0.5294118 , 0.        , 0.        ],\n",
       "         [0.5294118 , 0.        , 0.        ],\n",
       "         ...,\n",
       "         [0.5294118 , 0.        , 0.        ],\n",
       "         [0.5294118 , 0.        , 0.        ],\n",
       "         [0.5294118 , 0.        , 0.        ]],\n",
       "\n",
       "        ...,\n",
       "\n",
       "        [[0.9098039 , 0.        , 0.        ],\n",
       "         [0.9098039 , 0.        , 0.        ],\n",
       "         [0.9098039 , 0.        , 0.        ],\n",
       "         ...,\n",
       "         [0.5294118 , 0.        , 0.        ],\n",
       "         [0.5294118 , 0.        , 0.        ],\n",
       "         [0.5294118 , 0.        , 0.        ]],\n",
       "\n",
       "        [[0.972549  , 0.        , 0.        ],\n",
       "         [0.972549  , 0.        , 0.        ],\n",
       "         [0.9529412 , 0.        , 0.        ],\n",
       "         ...,\n",
       "         [0.5294118 , 0.        , 0.        ],\n",
       "         [0.5294118 , 0.        , 0.        ],\n",
       "         [0.5294118 , 0.        , 0.        ]],\n",
       "\n",
       "        [[1.        , 0.        , 0.        ],\n",
       "         [1.        , 0.        , 0.        ],\n",
       "         [0.99607843, 0.        , 0.        ],\n",
       "         ...,\n",
       "         [0.5294118 , 0.        , 0.        ],\n",
       "         [0.5294118 , 0.        , 0.        ],\n",
       "         [0.5294118 , 0.        , 0.        ]]],\n",
       "\n",
       "\n",
       "       [[[0.5294118 , 0.        , 0.        ],\n",
       "         [0.5294118 , 0.        , 0.        ],\n",
       "         [0.5294118 , 0.        , 0.        ],\n",
       "         ...,\n",
       "         [0.5294118 , 0.        , 0.        ],\n",
       "         [0.5294118 , 0.        , 0.        ],\n",
       "         [0.5294118 , 0.        , 0.        ]],\n",
       "\n",
       "        [[0.5294118 , 0.        , 0.        ],\n",
       "         [0.5294118 , 0.        , 0.        ],\n",
       "         [0.5294118 , 0.        , 0.        ],\n",
       "         ...,\n",
       "         [0.5294118 , 0.        , 0.        ],\n",
       "         [0.5294118 , 0.        , 0.        ],\n",
       "         [0.5294118 , 0.        , 0.        ]],\n",
       "\n",
       "        [[0.5294118 , 0.        , 0.        ],\n",
       "         [0.5294118 , 0.        , 0.        ],\n",
       "         [0.5294118 , 0.        , 0.        ],\n",
       "         ...,\n",
       "         [0.5294118 , 0.        , 0.        ],\n",
       "         [0.5294118 , 0.        , 0.        ],\n",
       "         [0.5294118 , 0.        , 0.        ]],\n",
       "\n",
       "        ...,\n",
       "\n",
       "        [[0.5647059 , 0.        , 0.        ],\n",
       "         [0.5647059 , 0.        , 0.        ],\n",
       "         [0.5882353 , 0.        , 0.        ],\n",
       "         ...,\n",
       "         [0.5294118 , 0.        , 0.        ],\n",
       "         [0.5294118 , 0.        , 0.        ],\n",
       "         [0.5294118 , 0.        , 0.        ]],\n",
       "\n",
       "        [[0.5372549 , 0.        , 0.        ],\n",
       "         [0.5647059 , 0.        , 0.        ],\n",
       "         [0.56078434, 0.        , 0.        ],\n",
       "         ...,\n",
       "         [0.5294118 , 0.        , 0.        ],\n",
       "         [0.5294118 , 0.        , 0.        ],\n",
       "         [0.5294118 , 0.        , 0.        ]],\n",
       "\n",
       "        [[0.56078434, 0.        , 0.        ],\n",
       "         [0.5647059 , 0.        , 0.        ],\n",
       "         [0.57254905, 0.        , 0.        ],\n",
       "         ...,\n",
       "         [0.5294118 , 0.        , 0.        ],\n",
       "         [0.5294118 , 0.        , 0.        ],\n",
       "         [0.5294118 , 0.        , 0.        ]]],\n",
       "\n",
       "\n",
       "       [[[0.5529412 , 0.        , 0.        ],\n",
       "         [0.60784316, 0.        , 0.        ],\n",
       "         [0.68235296, 0.        , 0.        ],\n",
       "         ...,\n",
       "         [0.5294118 , 0.        , 0.        ],\n",
       "         [0.5294118 , 0.        , 0.        ],\n",
       "         [0.5294118 , 0.        , 0.        ]],\n",
       "\n",
       "        [[0.54901963, 0.        , 0.        ],\n",
       "         [0.61960787, 0.        , 0.        ],\n",
       "         [0.7019608 , 0.        , 0.        ],\n",
       "         ...,\n",
       "         [0.5294118 , 0.        , 0.        ],\n",
       "         [0.5294118 , 0.        , 0.        ],\n",
       "         [0.5294118 , 0.        , 0.        ]],\n",
       "\n",
       "        [[0.5568628 , 0.        , 0.        ],\n",
       "         [0.6313726 , 0.        , 0.        ],\n",
       "         [0.7254902 , 0.        , 0.        ],\n",
       "         ...,\n",
       "         [0.5294118 , 0.        , 0.        ],\n",
       "         [0.5294118 , 0.        , 0.        ],\n",
       "         [0.5294118 , 0.        , 0.        ]],\n",
       "\n",
       "        ...,\n",
       "\n",
       "        [[0.78431374, 0.        , 0.        ],\n",
       "         [0.78431374, 0.        , 0.        ],\n",
       "         [0.78431374, 0.        , 0.        ],\n",
       "         ...,\n",
       "         [0.5294118 , 0.        , 0.        ],\n",
       "         [0.5294118 , 0.        , 0.        ],\n",
       "         [0.5294118 , 0.        , 0.        ]],\n",
       "\n",
       "        [[0.74509805, 0.        , 0.        ],\n",
       "         [0.74509805, 0.        , 0.        ],\n",
       "         [0.74509805, 0.        , 0.        ],\n",
       "         ...,\n",
       "         [0.5294118 , 0.        , 0.        ],\n",
       "         [0.5294118 , 0.        , 0.        ],\n",
       "         [0.5294118 , 0.        , 0.        ]],\n",
       "\n",
       "        [[0.6901961 , 0.        , 0.        ],\n",
       "         [0.6901961 , 0.        , 0.        ],\n",
       "         [0.6901961 , 0.        , 0.        ],\n",
       "         ...,\n",
       "         [0.5294118 , 0.        , 0.        ],\n",
       "         [0.5294118 , 0.        , 0.        ],\n",
       "         [0.5294118 , 0.        , 0.        ]]]], dtype=float32)"
      ]
     },
     "execution_count": 27,
     "metadata": {},
     "output_type": "execute_result"
    }
   ],
   "source": [
    "X_train"
   ]
  },
  {
   "cell_type": "code",
   "execution_count": 28,
   "metadata": {},
   "outputs": [],
   "source": [
    "from tensorflow.keras.callbacks import EarlyStopping\n",
    "from sklearn.model_selection import train_test_split\n",
    "import tensorflow.keras.backend as K\n",
    "\n",
    "earlyStopping = EarlyStopping(monitor='val_loss', min_delta=0, patience=2, verbose=0, mode='auto')"
   ]
  },
  {
   "cell_type": "code",
   "execution_count": 29,
   "metadata": {},
   "outputs": [],
   "source": [
    "K.clear_session()"
   ]
  },
  {
   "cell_type": "code",
   "execution_count": 30,
   "metadata": {},
   "outputs": [],
   "source": [
    "model = Sequential()\n",
    "# model.add(Dropout(0.3, input_shape=((100,100, 3))))\n",
    "model.add(Conv2D(32, (3, 3), input_shape=(100,100, 3)))\n",
    "model.add(Activation('relu'))\n",
    "model.add(MaxPooling2D(pool_size=(2, 2)))\n",
    "model.add(Conv2D(32, (3, 3)))\n",
    "model.add(Activation('relu'))\n",
    "model.add(MaxPooling2D(pool_size=(4, 4)))\n",
    "model.add(Conv2D(64, (3, 3)))\n",
    "model.add(Activation('relu'))"
   ]
  },
  {
   "cell_type": "code",
   "execution_count": 31,
   "metadata": {},
   "outputs": [],
   "source": [
    "model.add(Flatten())  #3D feature maps to 1D feature vectors\n",
    "model.add(Dense(32, kernel_regularizer= 'l2'))\n",
    "model.add(Activation('relu'))\n",
    "model.add(Dropout(0.6))\n",
    "model.add(Dense(5, kernel_regularizer= 'l2'))\n",
    "model.add(Activation('softmax'))\n",
    "model.compile(loss='categorical_crossentropy',optimizer='adam',metrics=['accuracy'],)"
   ]
  },
  {
   "cell_type": "code",
   "execution_count": 32,
   "metadata": {},
   "outputs": [
    {
     "name": "stdout",
     "output_type": "stream",
     "text": [
      "Model: \"sequential\"\n",
      "_________________________________________________________________\n",
      "Layer (type)                 Output Shape              Param #   \n",
      "=================================================================\n",
      "conv2d (Conv2D)              (None, 98, 98, 32)        896       \n",
      "_________________________________________________________________\n",
      "activation (Activation)      (None, 98, 98, 32)        0         \n",
      "_________________________________________________________________\n",
      "max_pooling2d (MaxPooling2D) (None, 49, 49, 32)        0         \n",
      "_________________________________________________________________\n",
      "conv2d_1 (Conv2D)            (None, 47, 47, 32)        9248      \n",
      "_________________________________________________________________\n",
      "activation_1 (Activation)    (None, 47, 47, 32)        0         \n",
      "_________________________________________________________________\n",
      "max_pooling2d_1 (MaxPooling2 (None, 11, 11, 32)        0         \n",
      "_________________________________________________________________\n",
      "conv2d_2 (Conv2D)            (None, 9, 9, 64)          18496     \n",
      "_________________________________________________________________\n",
      "activation_2 (Activation)    (None, 9, 9, 64)          0         \n",
      "_________________________________________________________________\n",
      "flatten (Flatten)            (None, 5184)              0         \n",
      "_________________________________________________________________\n",
      "dense (Dense)                (None, 32)                165920    \n",
      "_________________________________________________________________\n",
      "activation_3 (Activation)    (None, 32)                0         \n",
      "_________________________________________________________________\n",
      "dropout (Dropout)            (None, 32)                0         \n",
      "_________________________________________________________________\n",
      "dense_1 (Dense)              (None, 5)                 165       \n",
      "_________________________________________________________________\n",
      "activation_4 (Activation)    (None, 5)                 0         \n",
      "=================================================================\n",
      "Total params: 194,725\n",
      "Trainable params: 194,725\n",
      "Non-trainable params: 0\n",
      "_________________________________________________________________\n"
     ]
    }
   ],
   "source": [
    "model.summary()"
   ]
  },
  {
   "cell_type": "code",
   "execution_count": 34,
   "metadata": {},
   "outputs": [
    {
     "name": "stdout",
     "output_type": "stream",
     "text": [
      "Epoch 1/20\n",
      "4/4 [==============================] - 4s 1s/step - loss: 1.7322 - accuracy: 0.5397 - val_loss: 1.3073 - val_accuracy: 0.7838\n",
      "Epoch 2/20\n",
      "4/4 [==============================] - 5s 1s/step - loss: 1.3951 - accuracy: 0.6402 - val_loss: 1.0060 - val_accuracy: 0.8707\n",
      "Epoch 3/20\n",
      "4/4 [==============================] - 5s 1s/step - loss: 1.1939 - accuracy: 0.7131 - val_loss: 0.8270 - val_accuracy: 0.8900\n",
      "Epoch 4/20\n",
      "4/4 [==============================] - 4s 1s/step - loss: 1.0432 - accuracy: 0.7653 - val_loss: 0.6676 - val_accuracy: 0.9151\n",
      "Epoch 5/20\n",
      "4/4 [==============================] - 6s 1s/step - loss: 0.9388 - accuracy: 0.7801 - val_loss: 0.5938 - val_accuracy: 0.9324\n",
      "Epoch 6/20\n",
      "4/4 [==============================] - 5s 1s/step - loss: 0.8705 - accuracy: 0.7943 - val_loss: 0.5130 - val_accuracy: 0.9498\n",
      "Epoch 7/20\n",
      "4/4 [==============================] - 5s 1s/step - loss: 0.7999 - accuracy: 0.8124 - val_loss: 0.4711 - val_accuracy: 0.9479\n",
      "Epoch 8/20\n",
      "4/4 [==============================] - 5s 1s/step - loss: 0.7547 - accuracy: 0.8259 - val_loss: 0.4288 - val_accuracy: 0.9459\n",
      "Epoch 9/20\n",
      "4/4 [==============================] - 6s 1s/step - loss: 0.6943 - accuracy: 0.8375 - val_loss: 0.4073 - val_accuracy: 0.9517\n",
      "Epoch 10/20\n",
      "4/4 [==============================] - 5s 1s/step - loss: 0.7049 - accuracy: 0.8414 - val_loss: 0.3815 - val_accuracy: 0.9595\n",
      "Epoch 11/20\n",
      "4/4 [==============================] - 5s 1s/step - loss: 0.6551 - accuracy: 0.8485 - val_loss: 0.3746 - val_accuracy: 0.9537\n",
      "Epoch 12/20\n",
      "4/4 [==============================] - 5s 1s/step - loss: 0.6458 - accuracy: 0.8446 - val_loss: 0.3611 - val_accuracy: 0.9498\n",
      "Epoch 13/20\n",
      "4/4 [==============================] - 6s 1s/step - loss: 0.6162 - accuracy: 0.8569 - val_loss: 0.3414 - val_accuracy: 0.9691\n",
      "Epoch 14/20\n",
      "4/4 [==============================] - 6s 2s/step - loss: 0.5830 - accuracy: 0.8517 - val_loss: 0.3257 - val_accuracy: 0.9614\n",
      "Epoch 15/20\n",
      "4/4 [==============================] - 5s 1s/step - loss: 0.5735 - accuracy: 0.8453 - val_loss: 0.3246 - val_accuracy: 0.9691\n",
      "Epoch 16/20\n",
      "4/4 [==============================] - 6s 1s/step - loss: 0.5726 - accuracy: 0.8524 - val_loss: 0.3084 - val_accuracy: 0.9691\n",
      "Epoch 17/20\n",
      "4/4 [==============================] - 5s 1s/step - loss: 0.5529 - accuracy: 0.8478 - val_loss: 0.2807 - val_accuracy: 0.9807\n",
      "Epoch 18/20\n",
      "4/4 [==============================] - 6s 1s/step - loss: 0.5336 - accuracy: 0.8517 - val_loss: 0.2749 - val_accuracy: 0.9768\n",
      "Epoch 19/20\n",
      "4/4 [==============================] - 5s 1s/step - loss: 0.4862 - accuracy: 0.8781 - val_loss: 0.2729 - val_accuracy: 0.9826\n",
      "Epoch 20/20\n",
      "4/4 [==============================] - 6s 1s/step - loss: 0.4948 - accuracy: 0.8633 - val_loss: 0.2699 - val_accuracy: 0.9710\n"
     ]
    }
   ],
   "source": [
    "# model.compile(optimizer='adam',loss='sparse_categorical_crossentropy',metrics=['accuracy'])\n",
    "history=model.fit(X_train, y_train, batch_size = 400, epochs = 20, verbose = 1, validation_data = (X_val, y_val))"
   ]
  },
  {
   "cell_type": "code",
   "execution_count": 35,
   "metadata": {},
   "outputs": [
    {
     "name": "stdout",
     "output_type": "stream",
     "text": [
      "[0.2531481385231018, 0.978723406791687] [0.25248390436172485, 0.9836065769195557]\n"
     ]
    }
   ],
   "source": [
    "# evaluate the model\n",
    "train_acc = model.evaluate(X_train, y_train, verbose=0)\n",
    "test_acc = model.evaluate(X_test, y_test, verbose=0)\n",
    "print(train_acc,test_acc)"
   ]
  },
  {
   "cell_type": "code",
   "execution_count": 36,
   "metadata": {},
   "outputs": [
    {
     "data": {
      "image/png": "[encoded data removed]",
      "text/plain": [
       "<Figure size 1440x720 with 2 Axes>"
      ]
     },
     "metadata": {
      "needs_background": "light"
     },
     "output_type": "display_data"
    }
   ],
   "source": [
    "# plot loss during training\n",
    "fig=pyplot.figure(figsize=(20,10))\n",
    "pyplot.subplot(211)\n",
    "pyplot.title('Loss')\n",
    "pyplot.plot(history.history['loss'], label='train')\n",
    "pyplot.plot(history.history['val_loss'], label='test')\n",
    "pyplot.legend()\n",
    "# plot accuracy during training\n",
    "pyplot.subplot(212)\n",
    "pyplot.title('Accuracy')\n",
    "pyplot.plot(history.history['accuracy'], label='train')\n",
    "pyplot.plot(history.history['val_accuracy'], label='test')\n",
    "pyplot.legend()\n",
    "pyplot.show()"
   ]
  },
  {
   "cell_type": "code",
   "execution_count": 37,
   "metadata": {},
   "outputs": [],
   "source": [
    "from sklearn.datasets import make_circles\n",
    "from sklearn.metrics import accuracy_score, precision_score, recall_score, f1_score, cohen_kappa_score,roc_auc_score,confusion_matrix,ConfusionMatrixDisplay"
   ]
  },
  {
   "cell_type": "code",
   "execution_count": 38,
   "metadata": {},
   "outputs": [
    {
     "name": "stdout",
     "output_type": "stream",
     "text": [
      "(366, 5) (366, 5)\n",
      "[[91  0  0  0  0]\n",
      " [ 0 85  4  0  0]\n",
      " [ 0  0 86  0  1]\n",
      " [ 0  0  0 46  0]\n",
      " [ 1  0  0  0 52]]\n"
     ]
    }
   ],
   "source": [
    "testX=X_test\n",
    "trainX=X_train\n",
    "testy=y_test\n",
    "trainy=y_train\n",
    "# predict probabilities for test set\n",
    "y_pred = model.predict(testX, verbose=0)\n",
    "print(y_pred.shape,testy.shape)\n",
    "y_p=np.argmax(y_pred, axis=1)\n",
    "y_t=np.argmax(y_test, axis=1)\n",
    "\n",
    "cm = confusion_matrix(y_t, y_p)\n",
    "print(cm)"
   ]
  },
  {
   "cell_type": "code",
   "execution_count": 39,
   "metadata": {},
   "outputs": [
    {
     "data": {
      "text/plain": [
       "array([3, 0, 2, 2, 0, 1, 2, 0, 2, 3, 1, 0, 3, 0, 2, 0, 0, 0, 1, 1, 2, 0,\n",
       "       0, 0, 2, 0, 3, 1, 4, 4, 4, 1, 0, 0, 0, 0, 1, 1, 3, 1, 0, 0, 1, 0,\n",
       "       2, 1, 0, 1, 1, 3, 4, 1, 1, 2, 0, 0, 0, 1, 2, 3, 2, 4, 0, 2, 1, 4,\n",
       "       3, 0, 1, 3, 3, 1, 0, 4, 2, 0, 3, 1, 3, 3, 0, 2, 2, 2, 0, 3, 1, 1,\n",
       "       0, 1, 1, 0, 1, 2, 0, 4, 0, 4, 2, 0, 3, 1, 2, 3, 2, 4, 0, 1, 2, 1,\n",
       "       2, 2, 2, 0, 4, 1, 1, 2, 4, 1, 4, 1, 0, 2, 2, 2, 2, 0, 1, 0, 4, 0,\n",
       "       0, 2, 0, 0, 2, 1, 4, 1, 2, 0, 4, 3, 1, 3, 3, 3, 1, 3, 2, 2, 3, 3,\n",
       "       3, 3, 1, 3, 0, 1, 1, 4, 2, 1, 2, 2, 1, 1, 2, 0, 1, 1, 0, 4, 3, 2,\n",
       "       3, 2, 3, 2, 1, 3, 1, 1, 4, 2, 1, 1, 0, 1, 1, 2, 2, 2, 4, 4, 1, 2,\n",
       "       1, 4, 3, 0, 1, 2, 1, 0, 2, 2, 2, 2, 4, 0, 0, 2, 2, 4, 2, 4, 4, 4,\n",
       "       2, 2, 3, 3, 4, 0, 0, 0, 4, 4, 0, 2, 4, 1, 0, 0, 2, 0, 2, 1, 1, 4,\n",
       "       0, 4, 3, 2, 2, 1, 1, 4, 2, 2, 2, 2, 2, 2, 3, 0, 3, 2, 4, 2, 1, 4,\n",
       "       4, 3, 3, 4, 2, 4, 1, 1, 4, 2, 0, 2, 4, 1, 1, 2, 0, 1, 0, 2, 4, 0,\n",
       "       0, 1, 0, 0, 0, 0, 4, 2, 2, 4, 2, 4, 0, 1, 3, 0, 3, 0, 3, 1, 2, 3,\n",
       "       0, 1, 2, 2, 0, 4, 0, 1, 2, 0, 0, 1, 0, 3, 0, 0, 2, 3, 2, 4, 0, 1,\n",
       "       1, 1, 2, 4, 1, 2, 0, 4, 1, 3, 1, 0, 2, 1, 1, 2, 0, 1, 4, 0, 0, 0,\n",
       "       4, 0, 2, 0, 4, 1, 3, 0, 2, 1, 2, 4, 0, 1], dtype=int64)"
      ]
     },
     "execution_count": 39,
     "metadata": {},
     "output_type": "execute_result"
    }
   ],
   "source": [
    "y_p"
   ]
  },
  {
   "cell_type": "code",
   "execution_count": 40,
   "metadata": {},
   "outputs": [
    {
     "name": "stdout",
     "output_type": "stream",
     "text": [
      "[[91  0  0  0  0]\n",
      " [ 0 85  4  0  0]\n",
      " [ 0  0 86  0  1]\n",
      " [ 0  0  0 46  0]\n",
      " [ 1  0  0  0 52]]\n"
     ]
    },
    {
     "data": {
      "text/plain": [
       "<sklearn.metrics._plot.confusion_matrix.ConfusionMatrixDisplay at 0x21c3b4e62c8>"
      ]
     },
     "execution_count": 40,
     "metadata": {},
     "output_type": "execute_result"
    },
    {
     "data": {
      "image/png": "[encoded data removed]",
      "text/plain": [
       "<Figure size 432x288 with 2 Axes>"
      ]
     },
     "metadata": {
      "needs_background": "light"
     },
     "output_type": "display_data"
    }
   ],
   "source": [
    "cm = confusion_matrix(y_t, y_p)\n",
    "print(cm)\n",
    "disp = ConfusionMatrixDisplay(confusion_matrix=cm,display_labels=CATEGORIES)\n",
    "disp.plot()"
   ]
  },
  {
   "cell_type": "code",
   "execution_count": 41,
   "metadata": {},
   "outputs": [],
   "source": [
    "from sklearn.metrics import precision_score, \\\n",
    "    recall_score, confusion_matrix, classification_report, \\\n",
    "    accuracy_score, f1_score\n"
   ]
  },
  {
   "cell_type": "code",
   "execution_count": 42,
   "metadata": {},
   "outputs": [
    {
     "name": "stdout",
     "output_type": "stream",
     "text": [
      "Accuracy: 0.983607\n",
      "Precision: 0.985164\n",
      "Recall: 0.984939\n",
      "F1 score: 0.984886\n"
     ]
    }
   ],
   "source": [
    "# predict crisp classes for test set\n",
    "# yhat_classes = model.predict_classes(testX, verbose=0)\n",
    "# print(yhat_classes.shape)\n",
    "# # # reduce to 1d array\n",
    "# yhat_probs = yhat_probs[:, 0]\n",
    "# yhat_classes = yhat_classes[:, 0]\n",
    "# # # accuracy: (tp + tn) / (p + n)\n",
    "accuracy = accuracy_score(y_t, y_p)\n",
    "print('Accuracy: %f' % accuracy)\n",
    "# # precision tp / (tp + fp)\n",
    "precision = precision_score(y_t,y_p,average=\"macro\")\n",
    "print('Precision: %f' % precision)\n",
    "# # recall: tp / (tp + fn)\n",
    "recall=recall_score(y_t, y_p, average=\"macro\")\n",
    "print('Recall: %f' % recall)\n",
    "# # f1: 2 tp / (2 tp + fp + fn)\n",
    "f1 = f1_score(y_t,y_p,average=\"macro\")\n",
    "print('F1 score: %f' % f1)"
   ]
  },
  {
   "cell_type": "code",
   "execution_count": null,
   "metadata": {},
   "outputs": [],
   "source": []
  }
 ],
 "metadata": {
  "colab": {
   "name": "2d-cnn.ipynb",
   "provenance": []
  },
  "kernelspec": {
   "display_name": "Python 3",
   "language": "python",
   "name": "python3"
  },
  "language_info": {
   "codemirror_mode": {
    "name": "ipython",
    "version": 3
   },
   "file_extension": ".py",
   "mimetype": "text/x-python",
   "name": "python",
   "nbconvert_exporter": "python",
   "pygments_lexer": "ipython3",
   "version": "3.7.10"
  }
 },
 "nbformat": 4,
 "nbformat_minor": 1
}
